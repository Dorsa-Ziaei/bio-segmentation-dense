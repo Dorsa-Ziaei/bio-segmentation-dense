{
 "cells": [
  {
   "cell_type": "code",
   "execution_count": 2,
   "metadata": {
    "collapsed": true
   },
   "outputs": [],
   "source": [
    "%matplotlib inline\n",
    "\n",
    "import numpy as np\n",
    "import pylab as plt\n",
    "from scipy.interpolate import interp2d"
   ]
  },
  {
   "cell_type": "code",
   "execution_count": null,
   "metadata": {
    "collapsed": false
   },
   "outputs": [],
   "source": [
    "# the domain Omega is [0:n]^2\n",
    "# Note that if n is a modest value, such as 65, this will run.\n",
    "# However, setting n to 512 kills the kernel.\n",
    "n = 65\n",
    "omega_x, omega_y = np.meshgrid(np.arange(n), np.arange(n))\n",
    "\n",
    "# create random displacement vectors at 9 locations in the domain.\n",
    "# the precise location isn't that important\n",
    "pts = np.array([120, 240, 360], dtype=np.int32)\n",
    "xx, yy = np.meshgrid(pts, pts)\n",
    "sigma = 10\n",
    "dx = sigma * np.random.randn(xx.size)\n",
    "dy = sigma * np.random.randn(xx.size)\n",
    "\n",
    "# use interpolation to generate a smooth field\n",
    "fx = interp2d(xx, yy, dx)\n",
    "fy = interp2d(xx, yy, dy)\n",
    "\n",
    "omega_dx = fx(omega_x.flatten(), omega_y.flatten())"
   ]
  }
 ],
 "metadata": {
  "anaconda-cloud": {},
  "kernelspec": {
   "display_name": "Python [Root]",
   "language": "python",
   "name": "Python [Root]"
  },
  "language_info": {
   "codemirror_mode": {
    "name": "ipython",
    "version": 2
   },
   "file_extension": ".py",
   "mimetype": "text/x-python",
   "name": "python",
   "nbconvert_exporter": "python",
   "pygments_lexer": "ipython2",
   "version": "2.7.12"
  }
 },
 "nbformat": 4,
 "nbformat_minor": 0
}
